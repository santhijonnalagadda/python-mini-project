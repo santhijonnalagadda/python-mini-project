{
 "cells": [
  {
   "cell_type": "code",
   "execution_count": 15,
   "metadata": {},
   "outputs": [
    {
     "name": "stdout",
     "output_type": "stream",
     "text": [
      "[2, 4, 5, 8, 9, 14, 25]\n"
     ]
    }
   ],
   "source": [
    "\n",
    "listone=[14,4,5,8,9,2,25]\n",
    "listtwo=[]\n",
    "for i in range(len(listone)):\n",
    "    minivalue=listone[0]\n",
    "    for j in range(1,len(listone)):\n",
    "       if(listone[j]<minivalue):\n",
    "         minivalue = listone[j]\n",
    "    listtwo.append(minivalue)\n",
    "    listone.remove(minivalue)\n",
    "print(listtwo)"
   ]
  }
 ],
 "metadata": {
  "kernelspec": {
   "display_name": "Python 3",
   "language": "python",
   "name": "python3"
  },
  "language_info": {
   "codemirror_mode": {
    "name": "ipython",
    "version": 3
   },
   "file_extension": ".py",
   "mimetype": "text/x-python",
   "name": "python",
   "nbconvert_exporter": "python",
   "pygments_lexer": "ipython3",
   "version": "3.11.9"
  }
 },
 "nbformat": 4,
 "nbformat_minor": 2
}
