{
 "cells": [
  {
   "cell_type": "code",
   "execution_count": null,
   "metadata": {},
   "outputs": [],
   "source": [
    "#Numpy - Numeric python\n",
    "#Most powerful package - Library\n",
    "#Numpy - Dimensions\n",
    "#A - One dimensional array\n",
    "#[A,B] || [A,B] - Two dimensional array - Row || Column\n",
    "#Three dimensional\n",
    "#Array - storing, ,manuplating, similar data type\n",
    "#Faster than any mathematical functions\n",
    "#Convinient compared to other packages\n",
    "#Memory efficiency\n",
    "#supports multi dimensinal arrays\n",
    "#speed(numpy operations)>speed(list operations)\n",
    "#size(numpy operations)memory optimization(list operations)\n",
    "\n",
    "import numpy as np"
   ]
  },
  {
   "cell_type": "code",
   "execution_count": 4,
   "metadata": {},
   "outputs": [
    {
     "name": "stdout",
     "output_type": "stream",
     "text": [
      "[1 2 3 4 5]\n"
     ]
    }
   ],
   "source": [
    "#create a numpy array\n",
    "#1D - array\n",
    "\n",
    "arr1D=np.array([1,2,3,4,5])\n",
    "print(arr1D)"
   ]
  },
  {
   "cell_type": "code",
   "execution_count": null,
   "metadata": {},
   "outputs": [
    {
     "name": "stdout",
     "output_type": "stream",
     "text": [
      "[[1 2 3]\n",
      " [4 5 6]]\n"
     ]
    }
   ],
   "source": [
    "#creating a 2D array\n",
    "\n",
    "arr2D=np.array([[1,2,3],[4,5,6]])\n",
    "print(arr2D)"
   ]
  },
  {
   "cell_type": "code",
   "execution_count": null,
   "metadata": {},
   "outputs": [
    {
     "name": "stdout",
     "output_type": "stream",
     "text": [
      "[[0. 0. 0.]\n",
      " [0. 0. 0.]]\n"
     ]
    }
   ],
   "source": [
    "#creating array with default values\n",
    "# here the first 2 denotes 2 dimesional array ,3 denotes number of 0 \n",
    "# in place of zeros we can also write ones(only)\n",
    "\n",
    "allZeroes=np.zeros((2,3))\n",
    "print(allZeroes)"
   ]
  },
  {
   "cell_type": "code",
   "execution_count": 20,
   "metadata": {},
   "outputs": [
    {
     "name": "stdout",
     "output_type": "stream",
     "text": [
      "[[1. 1. 1.]\n",
      " [1. 1. 1.]]\n"
     ]
    }
   ],
   "source": [
    "#creating array with all values of element as '1'\n",
    "allOnes=np.ones((2,3))\n",
    "print(allOnes)"
   ]
  },
  {
   "cell_type": "code",
   "execution_count": null,
   "metadata": {},
   "outputs": [
    {
     "name": "stdout",
     "output_type": "stream",
     "text": [
      "[[6 6 6]\n",
      " [6 6 6]]\n"
     ]
    }
   ],
   "source": [
    "#creating matrix with all valiues of element as 'constant values-n-full values'\n",
    "\n",
    "# here the first 2 denotes 2 dimesional array ,3 denotes number of 6, and 6 denotes the number 6\n",
    "\n",
    "allConstant=np.full((2,3),6)\n",
    "print(allConstant)"
   ]
  },
  {
   "cell_type": "code",
   "execution_count": null,
   "metadata": {},
   "outputs": [
    {
     "name": "stdout",
     "output_type": "stream",
     "text": [
      "[[1. 0. 0. 0.]\n",
      " [0. 1. 0. 0.]\n",
      " [0. 0. 1. 0.]\n",
      " [0. 0. 0. 1.]]\n"
     ]
    }
   ],
   "source": [
    "#creating identity matrix - 1\n",
    "# 4 denotes 4 dimensional array\n",
    "# eye denotes identity matrix\n",
    "\n",
    "identityMatrix=np.eye(4)\n",
    "print(identityMatrix)"
   ]
  },
  {
   "cell_type": "code",
   "execution_count": null,
   "metadata": {},
   "outputs": [
    {
     "name": "stdout",
     "output_type": "stream",
     "text": [
      "[[0.25276949 0.81244419 0.91004722]\n",
      " [0.44745851 0.63485685 0.87415072]\n",
      " [0.36221686 0.47652564 0.44524505]]\n",
      "[[16 15 11 16]\n",
      " [11 17 11 17]\n",
      " [12 19 15 16]]\n"
     ]
    }
   ],
   "source": [
    "#creating random matrices\n",
    "#here 3,3 denotes 3X3 matrix and by defaultly it takes the values between 0 and 1\n",
    "# basically rand function be used in numpy \n",
    "\n",
    "rand1=np.random.rand(3,3)\n",
    "print(rand1)\n",
    "\n",
    "#Between 10 and 20\n",
    "#3,4 denotes 3x4\n",
    "# in randint lowerbound is inclusive so 10 can also be printed\n",
    "\n",
    "rand2=np.random.randint(10,20,(3,4))\n",
    "print(rand2)"
   ]
  },
  {
   "cell_type": "code",
   "execution_count": null,
   "metadata": {},
   "outputs": [
    {
     "name": "stdout",
     "output_type": "stream",
     "text": [
      "[[-0.93702047 -0.9676285   0.08364575 -0.72472379]\n",
      " [-0.0741757  -0.08326904 -0.09391494  0.26551437]\n",
      " [ 0.8136637   0.2542402  -0.60632918  0.138904  ]]\n"
     ]
    }
   ],
   "source": [
    "#To generate random numbers between a and b, you can use:\n",
    "#rand1 = (b - a) * np.random.rand(3, 3) + a [using rand function only] \n",
    "\n",
    "rand2=2*np.random.rand(3,4)-1\n",
    "print(rand2)"
   ]
  },
  {
   "cell_type": "code",
   "execution_count": null,
   "metadata": {},
   "outputs": [
    {
     "name": "stdout",
     "output_type": "stream",
     "text": [
      "[[1 2 3]\n",
      " [4 5 6]]\n",
      "Th shape of array is(2, 3)\n",
      "The size of array is6\n",
      "The type of array isint64\n",
      "The dimensions of array is2\n"
     ]
    }
   ],
   "source": [
    "#Array properties\n",
    "arr=np.array([[1,2,3],[4,5,6]])\n",
    "print(arr)\n",
    "\n",
    "#Shape of array - prints nXm matrices\n",
    "print(f'Th shape of array is{arr.shape}')\n",
    "\n",
    "#Size of array - prints number of elements in array\n",
    "print(f'The size of array is{arr.size}')\n",
    "\n",
    "#DataType of array\n",
    "print(f'The type of array is{arr.dtype}')\n",
    "\n",
    "#Dimensions of array\n",
    "print(f'The dimensions of array is{arr.ndim}')"
   ]
  },
  {
   "cell_type": "code",
   "execution_count": null,
   "metadata": {},
   "outputs": [
    {
     "name": "stdout",
     "output_type": "stream",
     "text": [
      "[1 2 3]\n",
      "2\n",
      "[3]\n",
      "[[1 2 3]\n",
      " [4 5 6]]\n",
      "5\n",
      "[[1 2 3]]\n",
      "[]\n"
     ]
    }
   ],
   "source": [
    "#Indexing and Slicing\n",
    "\n",
    "#access the element in 1D array\n",
    "arr=np.array([1,2,3])\n",
    "print(arr)\n",
    "# prints second element in array with index 1\n",
    "print(arr[1])\n",
    "\n",
    "#slicing the elements\n",
    "print(arr[2:3])\n",
    "\n",
    "#access the element in 2D array\n",
    "arr2=np.array([[1,2,3],[4,5,6]])\n",
    "print(arr2)\n",
    "print(arr2[1,1])\n",
    "print(arr2[0:1])\n",
    "print(arr2[1:0])"
   ]
  },
  {
   "cell_type": "code",
   "execution_count": null,
   "metadata": {},
   "outputs": [
    {
     "name": "stdout",
     "output_type": "stream",
     "text": [
      "[0 1 2 3 4 5 6 7 8 9]\n"
     ]
    }
   ],
   "source": [
    "#l1=[]\n",
    "#l1.append(_) for _ in range[10]\n",
    "# arranging elements in list between a range in numpy instead of append()\n",
    "\n",
    "l1=np.arange(0,10)\n",
    "\n",
    "print(l1)"
   ]
  },
  {
   "cell_type": "code",
   "execution_count": null,
   "metadata": {},
   "outputs": [
    {
     "name": "stdout",
     "output_type": "stream",
     "text": [
      "The sum of a and b is[4 6 8]\n",
      "The difference of a and b is[-2 -2 -2]\n",
      "The product of a and b is[ 3  8 15]\n",
      "The division of a and b is[0.33333333 0.5        0.6       ]\n"
     ]
    }
   ],
   "source": [
    "# maths fundamentals with numpy\n",
    "\n",
    "a=np.array([1,2,3])\n",
    "b=np.array([3,4,5])\n",
    "print(f'The sum of a and b is{a+b}')\n",
    "print(f'The difference of a and b is{a-b}')\n",
    "print(f'The product of a and b is{a*b}')\n",
    "print(f'The division of a and b is{a/b}')"
   ]
  },
  {
   "cell_type": "code",
   "execution_count": null,
   "metadata": {},
   "outputs": [
    {
     "name": "stdout",
     "output_type": "stream",
     "text": [
      "[[22 31]\n",
      " [35 48]]\n"
     ]
    }
   ],
   "source": [
    "#Matrix multiplication\n",
    "b1=np.array([[1,2,3],[2,3,4]]) # 2X3 matrix\n",
    "b2=np.array([[5,6],[7,8],[1,3]]) # 3X2 matrix\n",
    "c=np.dot(b1,b2) # dot() performs matrix multiplication in numpy\n",
    "print(c)"
   ]
  },
  {
   "cell_type": "code",
   "execution_count": 34,
   "metadata": {},
   "outputs": [
    {
     "data": {
      "text/plain": [
       "array([[5, 6],\n",
       "       [7, 8],\n",
       "       [1, 3]])"
      ]
     },
     "execution_count": 34,
     "metadata": {},
     "output_type": "execute_result"
    }
   ],
   "source": [
    "b2"
   ]
  },
  {
   "cell_type": "code",
   "execution_count": null,
   "metadata": {},
   "outputs": [
    {
     "data": {
      "text/plain": [
       "numpy.ndarray"
      ]
     },
     "execution_count": 35,
     "metadata": {},
     "output_type": "execute_result"
    }
   ],
   "source": [
    "arr=np.array([[1,2,3],[4,5,6]])\n",
    "\n",
    "# finding datatype\n",
    "type(arr)"
   ]
  },
  {
   "cell_type": "code",
   "execution_count": null,
   "metadata": {},
   "outputs": [
    {
     "name": "stdout",
     "output_type": "stream",
     "text": [
      "[[1. 0.]\n",
      " [0. 1.]]\n"
     ]
    }
   ],
   "source": [
    "#Dot product - mxn || nxp\n",
    "arr1=np.eye(2) # 2D array \n",
    "print(arr1)"
   ]
  },
  {
   "cell_type": "code",
   "execution_count": 37,
   "metadata": {},
   "outputs": [
    {
     "data": {
      "text/plain": [
       "(2, 2)"
      ]
     },
     "execution_count": 37,
     "metadata": {},
     "output_type": "execute_result"
    }
   ],
   "source": [
    "arr1.shape"
   ]
  },
  {
   "cell_type": "code",
   "execution_count": 38,
   "metadata": {},
   "outputs": [
    {
     "name": "stdout",
     "output_type": "stream",
     "text": [
      "[[1. 2. 3.]\n",
      " [4. 5. 6.]]\n"
     ]
    }
   ],
   "source": [
    "result=np.dot(arr1,arr)\n",
    "print(result)"
   ]
  },
  {
   "cell_type": "code",
   "execution_count": 39,
   "metadata": {},
   "outputs": [
    {
     "name": "stdout",
     "output_type": "stream",
     "text": [
      "[[1. 0. 0.]\n",
      " [0. 1. 0.]\n",
      " [0. 0. 1.]]\n"
     ]
    }
   ],
   "source": [
    "r2=np.eye(3)\n",
    "print(r2)"
   ]
  },
  {
   "cell_type": "code",
   "execution_count": 50,
   "metadata": {},
   "outputs": [
    {
     "data": {
      "text/plain": [
       "array([[5, 5, 4],\n",
       "       [3, 4, 3],\n",
       "       [3, 3, 3]], dtype=int32)"
      ]
     },
     "execution_count": 50,
     "metadata": {},
     "output_type": "execute_result"
    }
   ],
   "source": [
    "t1=np.random.randint(3,6,(3,3))\n",
    "t2=np.random.randint(3,6,(3,3))\n",
    "t1"
   ]
  },
  {
   "cell_type": "code",
   "execution_count": 51,
   "metadata": {},
   "outputs": [
    {
     "data": {
      "text/plain": [
       "array([[4, 5, 5],\n",
       "       [4, 5, 4],\n",
       "       [5, 3, 5]], dtype=int32)"
      ]
     },
     "execution_count": 51,
     "metadata": {},
     "output_type": "execute_result"
    }
   ],
   "source": [
    "t2"
   ]
  },
  {
   "cell_type": "code",
   "execution_count": 41,
   "metadata": {},
   "outputs": [],
   "source": [
    "#statistical operations\n",
    "mean=t2.mean()\n",
    "max=t2.max()\n",
    "median=np.median(t2)\n",
    "std=np.std(t2)\n",
    "var=np.var(t2)"
   ]
  },
  {
   "cell_type": "code",
   "execution_count": null,
   "metadata": {},
   "outputs": [
    {
     "name": "stdout",
     "output_type": "stream",
     "text": [
      "3.5555555555555554\n",
      "4.0\n",
      "4\n",
      "0.49690399499995325\n",
      "0.24691358024691354\n",
      "0.24691358024691357\n"
     ]
    }
   ],
   "source": [
    "# to get one cell of code execution in only one cell use print for every variable instead of executing each variable in new cell\n",
    "\n",
    "print(mean)\n",
    "print(median)\n",
    "print(max)\n",
    "print(std)\n",
    "print(var)\n",
    "print(std*std)"
   ]
  },
  {
   "cell_type": "code",
   "execution_count": null,
   "metadata": {},
   "outputs": [],
   "source": [
    "#Trignometric functions\n",
    "#sin(x),cos(x),tan(x),cot(x),cosec(x),sec(x)\n",
    "\n",
    "angles=np.array([0,15,30,45,60,75,90])\n",
    "result=np.sin(np.radians(angles))\n",
    "result1=np.cos(np.radians(angles))\n",
    "result2=np.tan(np.radians(angles))"
   ]
  },
  {
   "cell_type": "code",
   "execution_count": 60,
   "metadata": {},
   "outputs": [
    {
     "name": "stdout",
     "output_type": "stream",
     "text": [
      "[ 0 15 30 45 60 75 90]\n",
      "[0.         0.25881905 0.5        0.70710678 0.8660254  0.96592583\n",
      " 1.        ]\n",
      "[1.00000000e+00 9.65925826e-01 8.66025404e-01 7.07106781e-01\n",
      " 5.00000000e-01 2.58819045e-01 6.12323400e-17]\n",
      "[0.00000000e+00 2.67949192e-01 5.77350269e-01 1.00000000e+00\n",
      " 1.73205081e+00 3.73205081e+00 1.63312394e+16]\n"
     ]
    }
   ],
   "source": [
    "print(angles)\n",
    "print(result)\n",
    "print(result1)\n",
    "print(result2)"
   ]
  },
  {
   "cell_type": "code",
   "execution_count": 61,
   "metadata": {},
   "outputs": [
    {
     "name": "stdout",
     "output_type": "stream",
     "text": [
      "[[1 2 3]\n",
      " [4 5 6]]\n",
      "[1 2 3 4 5 6]\n"
     ]
    }
   ],
   "source": [
    "arr=np.array([1,2,3,4,5,6])\n",
    "#Reshape the array\n",
    "reshapearr=arr.reshape(2,3)\n",
    "print(reshapearr)\n",
    "#to convert/flatten any n dim array\n",
    "flattenedarr=arr.flatten()\n",
    "print(flattenedarr)"
   ]
  },
  {
   "cell_type": "code",
   "execution_count": 62,
   "metadata": {},
   "outputs": [
    {
     "name": "stdout",
     "output_type": "stream",
     "text": [
      "The shape of arr3 isd (2, 4)\n",
      "[[ 1  2  3  4]\n",
      " [10 20 30 40]]\n",
      "The shape of arr3 is (2, 4)\n",
      "[ 1  2  3  4 10 20 30 40]\n"
     ]
    }
   ],
   "source": [
    "#stacking the data\n",
    "arr1=np.array([1,2,3,4])\n",
    "arr2=np.array([10,20,30,40])\n",
    "\n",
    "#vertical stacking\n",
    "arr3=np.vstack((arr1,arr2))\n",
    "print(f\"The shape of arr3 isd {arr3.shape}\")\n",
    "print(arr3)\n",
    "\n",
    "#horizontal stacking\n",
    "arr4=np.hstack((arr1,arr2))\n",
    "print(f\"The shape of arr3 is {arr3.shape}\")\n",
    "print(arr4)"
   ]
  },
  {
   "cell_type": "code",
   "execution_count": 63,
   "metadata": {},
   "outputs": [
    {
     "name": "stdout",
     "output_type": "stream",
     "text": [
      "[50 60 70 80]\n"
     ]
    }
   ],
   "source": [
    "#filtering\n",
    "arr=np.array([10,20,30,40,50,60,70,80])\n",
    "\n",
    "farr=arr[arr>40]\n",
    "print(farr)"
   ]
  }
 ],
 "metadata": {
  "kernelspec": {
   "display_name": "Python 3",
   "language": "python",
   "name": "python3"
  },
  "language_info": {
   "codemirror_mode": {
    "name": "ipython",
    "version": 3
   },
   "file_extension": ".py",
   "mimetype": "text/x-python",
   "name": "python",
   "nbconvert_exporter": "python",
   "pygments_lexer": "ipython3",
   "version": "3.11.9"
  }
 },
 "nbformat": 4,
 "nbformat_minor": 2
}
