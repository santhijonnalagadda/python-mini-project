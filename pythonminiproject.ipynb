{
 "cells": [
  {
   "cell_type": "code",
   "execution_count": 1,
   "metadata": {},
   "outputs": [
    {
     "name": "stdout",
     "output_type": "stream",
     "text": [
      "Guess a number from 1 to 200\n",
      "Your guess is wrong, TRY AGAIN\n",
      "Computer's guess is 177 and your guess is 4\n"
     ]
    }
   ],
   "source": [
    "import random\n",
    "\n",
    "print(\"Guess a number from 1 to 200\")\n",
    "userinput = input(\"Enter your guess: \")\n",
    "\n",
    "computernumber = random.randint(1,200)\n",
    "\n",
    "if not userinput.isnumeric():\n",
    "  print(\"Use only integers\")\n",
    "else:\n",
    "  userinput = int(userinput)\n",
    "\n",
    "while userinput != computernumber:\n",
    "    if (userinput == computernumber):\n",
    "        print(\"Your guess is correct\")\n",
    "    else:\n",
    "        print(\"Your guess is wrong, TRY AGAIN\")\n",
    "        print(f\"Computer's guess is {computernumber} and your guess is {userinput}\")\n",
    "        break\n",
    "userinput = int(input(\"Guess your number again: \"))"
   ]
  }
 ],
 "metadata": {
  "kernelspec": {
   "display_name": "Python 3",
   "language": "python",
   "name": "python3"
  },
  "language_info": {
   "codemirror_mode": {
    "name": "ipython",
    "version": 3
   },
   "file_extension": ".py",
   "mimetype": "text/x-python",
   "name": "python",
   "nbconvert_exporter": "python",
   "pygments_lexer": "ipython3",
   "version": "3.11.9"
  }
 },
 "nbformat": 4,
 "nbformat_minor": 2
}
